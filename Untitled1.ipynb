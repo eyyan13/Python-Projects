{
  "nbformat": 4,
  "nbformat_minor": 0,
  "metadata": {
    "colab": {
      "provenance": [],
      "authorship_tag": "ABX9TyMcoVldBkcRsI0vR7Si4GNF",
      "include_colab_link": true
    },
    "kernelspec": {
      "name": "python3",
      "display_name": "Python 3"
    },
    "language_info": {
      "name": "python"
    }
  },
  "cells": [
    {
      "cell_type": "markdown",
      "metadata": {
        "id": "view-in-github",
        "colab_type": "text"
      },
      "source": [
        "<a href=\"https://colab.research.google.com/github/eyyan13/Python-Projects/blob/main/Untitled1.ipynb\" target=\"_parent\"><img src=\"https://colab.research.google.com/assets/colab-badge.svg\" alt=\"Open In Colab\"/></a>"
      ]
    },
    {
      "cell_type": "code",
      "execution_count": null,
      "metadata": {
        "id": "2L7Dxz870uUM"
      },
      "outputs": [],
      "source": [
        "import random\n",
        "\n",
        "def guess_the_number():\n",
        "    number = random.randint(1, 100)\n",
        "    attempts = 0\n",
        "    max_attempts = 10\n",
        "\n",
        "    print(\"Welcome to Guess the Number! I'm thinking of a number between 1 and 100.\")\n",
        "    print(f\"You have {max_attempts} attempts to guess it.\")\n",
        "\n",
        "    while attempts < max_attempts:\n",
        "        guess = input(\"Enter your guess: \").strip()\n",
        "        if not guess.isdigit():\n",
        "            print(\"Please enter a valid number.\")\n",
        "            continue\n",
        "        guess = int(guess)\n",
        "        attempts += 1\n",
        "\n",
        "        if guess < number:\n",
        "            print(\"Too low!\")\n",
        "        elif guess > number:\n",
        "            print(\"Too high!\")\n",
        "        else:\n",
        "            print(f\"Congratulations! You guessed the number {number} in {attempts} attempts!\")\n",
        "            return\n",
        "        print(f\"{max_attempts - attempts} attempts left.\")\n",
        "\n",
        "    print(f\"Game Over! The number was {number}.\")\n",
        "\n",
        "def main():\n",
        "    guess_the_number()\n",
        "    play_again = input(\"Do you want to play again? (yes/no): \").strip().lower()\n",
        "    if play_again == \"yes\":\n",
        "        print(\"\\nStarting a new game!\\n\")\n",
        "        main()\n",
        "\n",
        "if __name__ == \"__main__\":\n",
        "    main()"
      ]
    }
  ]
}