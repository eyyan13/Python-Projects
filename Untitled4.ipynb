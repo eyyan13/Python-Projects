{
  "nbformat": 4,
  "nbformat_minor": 0,
  "metadata": {
    "colab": {
      "provenance": [],
      "authorship_tag": "ABX9TyMVTrV68tYbP2BBHNyWjoED",
      "include_colab_link": true
    },
    "kernelspec": {
      "name": "python3",
      "display_name": "Python 3"
    },
    "language_info": {
      "name": "python"
    }
  },
  "cells": [
    {
      "cell_type": "markdown",
      "metadata": {
        "id": "view-in-github",
        "colab_type": "text"
      },
      "source": [
        "<a href=\"https://colab.research.google.com/github/eyyan13/Python-Projects/blob/main/Untitled4.ipynb\" target=\"_parent\"><img src=\"https://colab.research.google.com/assets/colab-badge.svg\" alt=\"Open In Colab\"/></a>"
      ]
    },
    {
      "cell_type": "code",
      "execution_count": null,
      "metadata": {
        "id": "mMZbDHhr4C-w"
      },
      "outputs": [],
      "source": [
        "import random\n",
        "\n",
        "def hangman():\n",
        "    words = [\"apple\", \"banana\", \"cake\", \"dog\", \"elephant\", \"flower\", \"guitar\"]\n",
        "    word = random.choice(words)\n",
        "    word_letters = set(word)\n",
        "    guessed_letters = set()\n",
        "    attempts = 6\n",
        "\n",
        "    print(\"Welcome to Hangman! Guess the word by entering one letter at a time.\")\n",
        "    print(f\"You have {attempts} attempts to guess the word.\")\n",
        "\n",
        "    while attempts > 0 and word_letters:\n",
        "        display = [letter if letter in guessed_letters else \"_\" for letter in word]\n",
        "        print(\"Word:\", \" \".join(display))\n",
        "        print(f\"Guessed letters: {', '.join(sorted(guessed_letters))}\")\n",
        "        guess = input(\"Enter a letter: \").strip().lower()\n",
        "\n",
        "        if len(guess) != 1 or not guess.isalpha():\n",
        "            print(\"Please enter a single letter.\")\n",
        "            continue\n",
        "\n",
        "        if guess in guessed_letters:\n",
        "            print(\"You already guessed that letter.\")\n",
        "            continue\n",
        "\n",
        "        guessed_letters.add(guess)\n",
        "\n",
        "        if guess in word_letters:\n",
        "            word_letters.remove(guess)\n",
        "            print(\"Good guess!\")\n",
        "        else:\n",
        "            attempts -= 1\n",
        "            print(f\"Wrong guess! {attempts} attempts left.\")\n",
        "\n",
        "    if not word_letters:\n",
        "        print(f\"Congratulations! You guessed the word: {word}\")\n",
        "    else:\n",
        "        print(f\"Game Over! The word was: {word}\")\n",
        "\n",
        "def main():\n",
        "    hangman()\n",
        "    play_again = input(\"Do you want to play again? (yes/no): \").strip().lower()\n",
        "    if play_again == \"yes\":\n",
        "        print(\"\\nStarting a new game!\\n\")\n",
        "        main()\n",
        "\n",
        "if __name__ == \"__main__\":\n",
        "    main()"
      ]
    }
  ]
}