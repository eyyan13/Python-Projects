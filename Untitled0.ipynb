{
  "nbformat": 4,
  "nbformat_minor": 0,
  "metadata": {
    "colab": {
      "provenance": [],
      "authorship_tag": "ABX9TyNNQ3LK/NPeCaNLF3dvyvZu",
      "include_colab_link": true
    },
    "kernelspec": {
      "name": "python3",
      "display_name": "Python 3"
    },
    "language_info": {
      "name": "python"
    }
  },
  "cells": [
    {
      "cell_type": "markdown",
      "metadata": {
        "id": "view-in-github",
        "colab_type": "text"
      },
      "source": [
        "<a href=\"https://colab.research.google.com/github/eyyan13/Python-Projects/blob/main/Untitled0.ipynb\" target=\"_parent\"><img src=\"https://colab.research.google.com/assets/colab-badge.svg\" alt=\"Open In Colab\"/></a>"
      ]
    },
    {
      "cell_type": "code",
      "execution_count": null,
      "metadata": {
        "colab": {
          "base_uri": "https://localhost:8080/"
        },
        "id": "73JoMmhcwZr5",
        "outputId": "af8436e0-2600-4789-943e-4a5085864f39"
      },
      "outputs": [
        {
          "output_type": "stream",
          "name": "stdout",
          "text": [
            "Let's create a fun story together!\n",
            "Welcome to the MadLib Game! Please provide the following words.\n",
            "Enter a noun: she\n",
            "Enter a verb: kite\n",
            "Enter an adjective: long\n",
            "Enter a number: 22\n",
            "Enter another noun: neck\n",
            "\n",
            "Here's your MadLib story:\n",
            "\n",
            "\n",
            "Once upon a time, in a land far, far away, there was a long she.\n",
            "This she loved to kite every day. One day, it decided to kite for 22 hours straight!\n",
            "After such an adventure, the she found a magical neck and lived happily ever after.\n",
            "\n"
          ]
        }
      ],
      "source": [
        "def get_user_input(prompt, validate_type):\n",
        "    while True:\n",
        "        user_input = input(prompt).strip()\n",
        "        if user_input:\n",
        "            if validate_type == \"noun\" and user_input.isalpha():\n",
        "                return user_input\n",
        "            elif validate_type == \"verb\" and user_input.isalpha():\n",
        "                return user_input\n",
        "            elif validate_type == \"adjective\" and user_input.isalpha():\n",
        "                return user_input\n",
        "            elif validate_type == \"number\" and user_input.isdigit():\n",
        "                return user_input\n",
        "            else:\n",
        "                print(f\"Please enter a valid {validate_type}.\")\n",
        "        else:\n",
        "            print(\"Input cannot be empty.\")\n",
        "\n",
        "def create_madlib():\n",
        "    print(\"Welcome to the MadLib Game! Please provide the following words.\")\n",
        "    noun1 = get_user_input(\"Enter a noun: \", \"noun\")\n",
        "    verb1 = get_user_input(\"Enter a verb: \", \"verb\")\n",
        "    adjective1 = get_user_input(\"Enter an adjective: \", \"adjective\")\n",
        "    number1 = get_user_input(\"Enter a number: \", \"number\")\n",
        "    noun2 = get_user_input(\"Enter another noun: \", \"noun\")\n",
        "    story = f\"\"\"\n",
        "Once upon a time, in a land far, far away, there was a {adjective1} {noun1}.\n",
        "This {noun1} loved to {verb1} every day. One day, it decided to {verb1} for {number1} hours straight!\n",
        "After such an adventure, the {noun1} found a magical {noun2} and lived happily ever after.\n",
        "\"\"\"\n",
        "    return story\n",
        "\n",
        "def main():\n",
        "    print(\"Let's create a fun story together!\")\n",
        "    story = create_madlib()\n",
        "    print(\"\\nHere's your MadLib story:\\n\")\n",
        "    print(story)\n",
        "    play_again = input(\"Would you like to create another story? (yes/no): \").strip().lower()\n",
        "    if play_again == \"yes\":\n",
        "        print(\"\\nGreat! Let's make another story!\\n\")\n",
        "        main()\n",
        "\n",
        "if __name__ == \"__main__\":\n",
        "    main()"
      ]
    }
  ]
}