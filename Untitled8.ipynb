{
  "nbformat": 4,
  "nbformat_minor": 0,
  "metadata": {
    "colab": {
      "provenance": [],
      "authorship_tag": "ABX9TyNBhEXhtnCGGPqsCOCrnJU/",
      "include_colab_link": true
    },
    "kernelspec": {
      "name": "python3",
      "display_name": "Python 3"
    },
    "language_info": {
      "name": "python"
    }
  },
  "cells": [
    {
      "cell_type": "markdown",
      "metadata": {
        "id": "view-in-github",
        "colab_type": "text"
      },
      "source": [
        "<a href=\"https://colab.research.google.com/github/eyyan13/Python-Projects/blob/main/Untitled8.ipynb\" target=\"_parent\"><img src=\"https://colab.research.google.com/assets/colab-badge.svg\" alt=\"Open In Colab\"/></a>"
      ]
    },
    {
      "cell_type": "code",
      "source": [
        "import streamlit as st\n",
        "import pandas as pd\n",
        "\n",
        "st.set_page_config(page_title=\"Streamlit Website\", layout=\"centered\")\n",
        "\n",
        "# Title\n",
        "st.title(\"My Streamlit Web App 🚀\")\n",
        "st.write(\"Welcome to my awesome web app built with Python and Streamlit!\")\n",
        "\n",
        "# Sidebar\n",
        "st.sidebar.title(\"Navigation\")\n",
        "page = st.sidebar.radio(\"Go to\", [\"Home\", \"Upload CSV\", \"About\"])\n",
        "\n",
        "# Home Page\n",
        "if page == \"Home\":\n",
        "    st.header(\"📍 Home Page\")\n",
        "    st.write(\"This is the home page of the application.\")\n",
        "    name = st.text_input(\"Enter your name:\")\n",
        "    if name:\n",
        "        st.success(f\"Hello, {name}! Welcome to my app.\")\n",
        "\n",
        "# Upload CSV Page\n",
        "elif page == \"Upload CSV\":\n",
        "    st.header(\"📁 Upload Your CSV File\")\n",
        "    file = st.file_uploader(\"Choose a CSV file\", type=[\"csv\"])\n",
        "    if file is not None:\n",
        "        df = pd.read_csv(file)\n",
        "        st.write(\"### 📊 Data Preview\")\n",
        "        st.dataframe(df)\n",
        "        st.write(\"### 📈 Basic Statistics\")\n",
        "        st.write(df.describe())\n",
        "\n",
        "# About Page\n",
        "elif page == \"About\":\n",
        "    st.header(\"👨‍💻 About\")\n",
        "    st.write(\"This web app is built using [Streamlit](https://streamlit.io/).\")\n",
        "    st.write(\"Created by: Your Name Here\")\n",
        "\n",
        "# Footer\n",
        "st.markdown(\"---\")\n",
        "st.markdown(\"Made with ❤ by [Hashir](https://github.com/eyyan13)\")"
      ],
      "metadata": {
        "id": "tJIMOuDU-f8W"
      },
      "execution_count": null,
      "outputs": []
    }
  ]
}