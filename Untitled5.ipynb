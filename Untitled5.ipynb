{
  "nbformat": 4,
  "nbformat_minor": 0,
  "metadata": {
    "colab": {
      "provenance": [],
      "authorship_tag": "ABX9TyNX/tnU6CC26ZUW6yGNQBhH",
      "include_colab_link": true
    },
    "kernelspec": {
      "name": "python3",
      "display_name": "Python 3"
    },
    "language_info": {
      "name": "python"
    }
  },
  "cells": [
    {
      "cell_type": "markdown",
      "metadata": {
        "id": "view-in-github",
        "colab_type": "text"
      },
      "source": [
        "<a href=\"https://colab.research.google.com/github/eyyan13/Python-Projects/blob/main/Untitled5.ipynb\" target=\"_parent\"><img src=\"https://colab.research.google.com/assets/colab-badge.svg\" alt=\"Open In Colab\"/></a>"
      ]
    },
    {
      "cell_type": "code",
      "execution_count": null,
      "metadata": {
        "id": "jKq15xL-5Pwk"
      },
      "outputs": [],
      "source": [
        "import time\n",
        "\n",
        "def countdown_timer():\n",
        "    print(\"Welcome to Countdown Timer!\")\n",
        "    while True:\n",
        "        seconds = input(\"Enter time in seconds: \").strip()\n",
        "        if seconds.isdigit() and int(seconds) > 0:\n",
        "            seconds = int(seconds)\n",
        "            break\n",
        "        print(\"Please enter a valid positive number.\")\n",
        "\n",
        "    print(f\"Timer starting for {seconds} seconds...\")\n",
        "    while seconds > 0:\n",
        "        print(f\"Time remaining: {seconds} seconds\")\n",
        "        time.sleep(1)\n",
        "        seconds -= 1\n",
        "    print(\"Time's up!\")\n",
        "\n",
        "def main():\n",
        "    countdown_timer()\n",
        "    play_again = input(\"Do you want to set another timer? (yes/no): \").strip().lower()\n",
        "    if play_again == \"yes\":\n",
        "        print(\"\\nStarting a new timer!\\n\")\n",
        "        main()\n",
        "\n",
        "if __name__ == \"__main__\":\n",
        "    main()"
      ]
    }
  ]
}