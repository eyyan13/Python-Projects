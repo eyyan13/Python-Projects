{
  "nbformat": 4,
  "nbformat_minor": 0,
  "metadata": {
    "colab": {
      "provenance": [],
      "authorship_tag": "ABX9TyNrfbCKDFCAQ/++LrCIpqNq",
      "include_colab_link": true
    },
    "kernelspec": {
      "name": "python3",
      "display_name": "Python 3"
    },
    "language_info": {
      "name": "python"
    }
  },
  "cells": [
    {
      "cell_type": "markdown",
      "metadata": {
        "id": "view-in-github",
        "colab_type": "text"
      },
      "source": [
        "<a href=\"https://colab.research.google.com/github/eyyan13/Python-Projects/blob/main/Untitled6.ipynb\" target=\"_parent\"><img src=\"https://colab.research.google.com/assets/colab-badge.svg\" alt=\"Open In Colab\"/></a>"
      ]
    },
    {
      "cell_type": "code",
      "execution_count": null,
      "metadata": {
        "id": "BdLjfsoK5wvd"
      },
      "outputs": [],
      "source": [
        "import random\n",
        "import string\n",
        "\n",
        "def password_generator():\n",
        "    print(\"Welcome to Password Generator!\")\n",
        "    while True:\n",
        "        length = input(\"Enter password length (minimum 8): \").strip()\n",
        "        if length.isdigit() and int(length) >= 8:\n",
        "            length = int(length)\n",
        "            break\n",
        "        print(\"Please enter a valid number (8 or more).\")\n",
        "\n",
        "    use_letters = input(\"Include letters (y/n)? \").strip().lower() == \"y\"\n",
        "    use_digits = input(\"Include digits (y/n)? \").strip().lower() == \"y\"\n",
        "    use_symbols = input(\"Include symbols (y/n)? \").strip().lower() == \"y\"\n",
        "\n",
        "    characters = \"\"\n",
        "    if use_letters:\n",
        "        characters += string.ascii_letters\n",
        "    if use_digits:\n",
        "        characters += string.digits\n",
        "    if use_symbols:\n",
        "        characters += string.punctuation\n",
        "\n",
        "    if not characters:\n",
        "        print(\"At least one character type must be selected!\")\n",
        "        return\n",
        "\n",
        "    password = \"\".join(random.choice(characters) for _ in range(length))\n",
        "    print(f\"Your password is: {password}\")\n",
        "\n",
        "def main():\n",
        "    password_generator()\n",
        "    again = input(\"Generate another password? (yes/no): \").strip().lower()\n",
        "    if again == \"yes\":\n",
        "        print(\"\\nStarting a new password generation!\\n\")\n",
        "        main()\n",
        "\n",
        "if __name__ == \"__main__\":\n",
        "    main()"
      ]
    }
  ]
}