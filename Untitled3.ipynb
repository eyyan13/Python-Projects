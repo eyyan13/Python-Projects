{
  "nbformat": 4,
  "nbformat_minor": 0,
  "metadata": {
    "colab": {
      "provenance": [],
      "authorship_tag": "ABX9TyPNZP/BdeUQZG+RpOJfVE2i",
      "include_colab_link": true
    },
    "kernelspec": {
      "name": "python3",
      "display_name": "Python 3"
    },
    "language_info": {
      "name": "python"
    }
  },
  "cells": [
    {
      "cell_type": "markdown",
      "metadata": {
        "id": "view-in-github",
        "colab_type": "text"
      },
      "source": [
        "<a href=\"https://colab.research.google.com/github/eyyan13/Python-Projects/blob/main/Untitled3.ipynb\" target=\"_parent\"><img src=\"https://colab.research.google.com/assets/colab-badge.svg\" alt=\"Open In Colab\"/></a>"
      ]
    },
    {
      "cell_type": "code",
      "execution_count": null,
      "metadata": {
        "id": "e3ApVkno2YyZ"
      },
      "outputs": [],
      "source": [
        "import random\n",
        "\n",
        "def rock_paper_scissors():\n",
        "    choices = [\"rock\", \"paper\", \"scissors\"]\n",
        "    print(\"Welcome to Rock, Paper, Scissors!\")\n",
        "    print(\"Enter your choice: rock, paper, or scissors\")\n",
        "\n",
        "    while True:\n",
        "        player = input(\"Your choice: \").strip().lower()\n",
        "        if player in choices:\n",
        "            break\n",
        "        print(\"Invalid choice! Please enter rock, paper, or scissors.\")\n",
        "\n",
        "    computer = random.choice(choices)\n",
        "    print(f\"Computer chose: {computer}\")\n",
        "\n",
        "    if player == computer:\n",
        "        print(\"It's a tie!\")\n",
        "    elif (player == \"rock\" and computer == \"scissors\") or \\\n",
        "         (player == \"paper\" and computer == \"rock\") or \\\n",
        "         (player == \"scissors\" and computer == \"paper\"):\n",
        "        print(\"You win!\")\n",
        "    else:\n",
        "        print(\"Computer wins!\")\n",
        "\n",
        "def main():\n",
        "    rock_paper_scissors()\n",
        "    play_again = input(\"Do you want to play again? (yes/no): \").strip().lower()\n",
        "    if play_again == \"yes\":\n",
        "        print(\"\\nStarting a new game!\\n\")\n",
        "        main()\n",
        "\n",
        "if __name__ == \"__main__\":\n",
        "    main()"
      ]
    },
    {
      "cell_type": "code",
      "source": [],
      "metadata": {
        "id": "TGKhDec82enk"
      },
      "execution_count": null,
      "outputs": []
    }
  ]
}