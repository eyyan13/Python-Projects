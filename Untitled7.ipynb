{
  "nbformat": 4,
  "nbformat_minor": 0,
  "metadata": {
    "colab": {
      "provenance": [],
      "authorship_tag": "ABX9TyMCJfv0onuP9NswVS/gGTYN",
      "include_colab_link": true
    },
    "kernelspec": {
      "name": "python3",
      "display_name": "Python 3"
    },
    "language_info": {
      "name": "python"
    }
  },
  "cells": [
    {
      "cell_type": "markdown",
      "metadata": {
        "id": "view-in-github",
        "colab_type": "text"
      },
      "source": [
        "<a href=\"https://colab.research.google.com/github/eyyan13/Python-Projects/blob/main/Untitled7.ipynb\" target=\"_parent\"><img src=\"https://colab.research.google.com/assets/colab-badge.svg\" alt=\"Open In Colab\"/></a>"
      ]
    },
    {
      "cell_type": "code",
      "execution_count": null,
      "metadata": {
        "id": "XE8TOE5h6KTU"
      },
      "outputs": [],
      "source": [
        "import streamlit as st\n",
        "\n",
        "st.title(\"BMI Calculator\")\n",
        "weight = st.number_input(\"Enter weight in kg\", min_value=1.0, value=70.0)\n",
        "height = st.number_input(\"Enter height in meters\", min_value=0.1, value=1.7)\n",
        "\n",
        "if st.button(\"Calculate\"):\n",
        "    bmi = weight / (height * height)\n",
        "    st.write(f\"BMI: {bmi:.2f}\")\n",
        "    if bmi < 18.5:\n",
        "        st.write(\"Category: Underweight\")\n",
        "    elif 18.5 <= bmi <= 24.9:\n",
        "        st.write(\"Category: Normal\")\n",
        "    elif 25 <= bmi <= 29.9:\n",
        "        st.write(\"Category: Overweight\")\n",
        "    else:\n",
        "        st.write(\"Category: Obesity\")"
      ]
    }
  ]
}