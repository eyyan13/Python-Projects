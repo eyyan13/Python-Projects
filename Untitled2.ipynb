{
  "nbformat": 4,
  "nbformat_minor": 0,
  "metadata": {
    "colab": {
      "provenance": [],
      "authorship_tag": "ABX9TyPj7s6Io+mg5aPLP/uOAw9U",
      "include_colab_link": true
    },
    "kernelspec": {
      "name": "python3",
      "display_name": "Python 3"
    },
    "language_info": {
      "name": "python"
    }
  },
  "cells": [
    {
      "cell_type": "markdown",
      "metadata": {
        "id": "view-in-github",
        "colab_type": "text"
      },
      "source": [
        "<a href=\"https://colab.research.google.com/github/eyyan13/Python-Projects/blob/main/Untitled2.ipynb\" target=\"_parent\"><img src=\"https://colab.research.google.com/assets/colab-badge.svg\" alt=\"Open In Colab\"/></a>"
      ]
    },
    {
      "cell_type": "code",
      "execution_count": null,
      "metadata": {
        "id": "IGxalVwE1jgo"
      },
      "outputs": [],
      "source": [
        "import random\n",
        "\n",
        "def guess_the_number_user():\n",
        "    print(\"Think of a number between 1 and 100, and I (the computer) will try to guess it!\")\n",
        "    print(\"After each guess, enter:\")\n",
        "    print(\"  'H' if my guess is too high\")\n",
        "    print(\"  'L' if my guess is too low\")\n",
        "    print(\"  'C' if my guess is correct\")\n",
        "\n",
        "    low = 1\n",
        "    high = 100\n",
        "    attempts = 0\n",
        "\n",
        "    while True:\n",
        "        guess = (low + high) // 2\n",
        "        attempts += 1\n",
        "        print(f\"My guess is {guess}\")\n",
        "        feedback = input(\"Enter H, L, or C: \").strip().upper()\n",
        "\n",
        "        if feedback == \"C\":\n",
        "            print(f\"Yay! I guessed your number {guess} in {attempts} attempts!\")\n",
        "            break\n",
        "        elif feedback == \"H\":\n",
        "            high = guess - 1\n",
        "        elif feedback == \"L\":\n",
        "            low = guess + 1\n",
        "        else:\n",
        "            print(\"Please enter H, L, or C only.\")\n",
        "            attempts -= 1\n",
        "\n",
        "        if low > high:\n",
        "            print(\"Something's wrong! The number seems out of range or inconsistent.\")\n",
        "            break\n",
        "\n",
        "def main():\n",
        "    guess_the_number_user()\n",
        "    play_again = input(\"Do you want to play again? (yes/no): \").strip().lower()\n",
        "    if play_again == \"yes\":\n",
        "        print(\"\\nStarting a new game!\\n\")\n",
        "        main()\n",
        "\n",
        "if __name__ == \"__main__\":\n",
        "    main()"
      ]
    }
  ]
}